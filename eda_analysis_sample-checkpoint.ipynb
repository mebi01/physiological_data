{
 "cells": [
  {
   "cell_type": "markdown",
   "metadata": {},
   "source": [
    "In this doc, a simulated eda data will be created and will be analyzed using nk pacakge\n",
    "\n",
    "- Things will be used:\n",
    "nk.eda_simulate(duration, scr_number, drift, noise) to simulate eda data\n",
    "nk.eda_process(eda_signal, sampling_rate) to process eda data\n",
    "nk.events_plot(features, cleaned_eda, color=['red', 'blue', 'orange']) to get scr or sking conductanc response  which include 1) peak onsets, 2) peak amplitude, and 3) half-recovery time.\n"
   ]
  },
  {
   "cell_type": "markdown",
   "metadata": {},
   "source": [
    "Some importnat concepts about EDA data (ref: E4):\n",
    "\n",
    "Skin conductance measurement is traditionally characterized into two types – tonic skin conductance level and phasic skin conductance response – which can roughly be thought of as “the smooth underlying slowly-changing levels” vs. “the rapidly changing peaks.”\n",
    "Phasic – Phasic skin conductance measurements are typically associated with short-term events and occur in the presence of discrete environmental stimuli - sight, sound, smell, cognitive processes that precede an event such as anticipation, decision making, etc. Phasic changes usually show up as abrupt increases in the skin conductance, or “peaks” in the skin conductance. These peaks are generally referred to as Skin Conductance Responses (SCRs).\n",
    "\n",
    "So, in nutshell, phasic data represents rapid changes in data and tonic shows slow changes (trend) in the data\n",
    "\n",
    "phasic: Skin Conductance Responses (SCRs): are abrupt increases in the conductance of the skin. \n",
    "tonic:  Skin Conductance Level (SCL): The SCL usually refers to the raw level of conductance of the skin.It may also be computed as an average over longer intervals, typically ranging from tens of seconds to tens of minutes. \n"
   ]
  },
  {
   "cell_type": "code",
   "execution_count": 8,
   "metadata": {},
   "outputs": [],
   "source": [
    "# load packages\n",
    "import neurokit2 as nk\n",
    "import matplotlib.pyplot as plt\n",
    "import pandas as pd\n",
    "%matplotlib inline"
   ]
  },
  {
   "cell_type": "code",
   "execution_count": 10,
   "metadata": {},
   "outputs": [
    {
     "data": {
      "text/html": [
       "<div>\n",
       "<style scoped>\n",
       "    .dataframe tbody tr th:only-of-type {\n",
       "        vertical-align: middle;\n",
       "    }\n",
       "\n",
       "    .dataframe tbody tr th {\n",
       "        vertical-align: top;\n",
       "    }\n",
       "\n",
       "    .dataframe thead th {\n",
       "        text-align: right;\n",
       "    }\n",
       "</style>\n",
       "<table border=\"1\" class=\"dataframe\">\n",
       "  <thead>\n",
       "    <tr style=\"text-align: right;\">\n",
       "      <th></th>\n",
       "      <th>0</th>\n",
       "    </tr>\n",
       "  </thead>\n",
       "  <tbody>\n",
       "    <tr>\n",
       "      <th>0</th>\n",
       "      <td>0.997566</td>\n",
       "    </tr>\n",
       "    <tr>\n",
       "      <th>1</th>\n",
       "      <td>0.997612</td>\n",
       "    </tr>\n",
       "    <tr>\n",
       "      <th>2</th>\n",
       "      <td>0.997668</td>\n",
       "    </tr>\n",
       "    <tr>\n",
       "      <th>3</th>\n",
       "      <td>0.997733</td>\n",
       "    </tr>\n",
       "    <tr>\n",
       "      <th>4</th>\n",
       "      <td>0.997808</td>\n",
       "    </tr>\n",
       "  </tbody>\n",
       "</table>\n",
       "</div>"
      ],
      "text/plain": [
       "          0\n",
       "0  0.997566\n",
       "1  0.997612\n",
       "2  0.997668\n",
       "3  0.997733\n",
       "4  0.997808"
      ]
     },
     "execution_count": 10,
     "metadata": {},
     "output_type": "execute_result"
    }
   ],
   "source": [
    "# simulated data\n",
    "eda_signal = nk.eda_simulate(duration=10, sampling_rate=250, scr_number=3, drift=0.01)\n",
    "pd.DataFrame(eda_signal).head()"
   ]
  },
  {
   "cell_type": "code",
   "execution_count": 11,
   "metadata": {},
   "outputs": [
    {
     "data": {
      "text/html": [
       "<div>\n",
       "<style scoped>\n",
       "    .dataframe tbody tr th:only-of-type {\n",
       "        vertical-align: middle;\n",
       "    }\n",
       "\n",
       "    .dataframe tbody tr th {\n",
       "        vertical-align: top;\n",
       "    }\n",
       "\n",
       "    .dataframe thead th {\n",
       "        text-align: right;\n",
       "    }\n",
       "</style>\n",
       "<table border=\"1\" class=\"dataframe\">\n",
       "  <thead>\n",
       "    <tr style=\"text-align: right;\">\n",
       "      <th></th>\n",
       "      <th>EDA_Raw</th>\n",
       "      <th>EDA_Clean</th>\n",
       "      <th>EDA_Tonic</th>\n",
       "      <th>EDA_Phasic</th>\n",
       "      <th>SCR_Onsets</th>\n",
       "      <th>SCR_Peaks</th>\n",
       "      <th>SCR_Height</th>\n",
       "      <th>SCR_Amplitude</th>\n",
       "      <th>SCR_RiseTime</th>\n",
       "      <th>SCR_Recovery</th>\n",
       "      <th>SCR_RecoveryTime</th>\n",
       "    </tr>\n",
       "  </thead>\n",
       "  <tbody>\n",
       "    <tr>\n",
       "      <th>0</th>\n",
       "      <td>0.997566</td>\n",
       "      <td>1.006233</td>\n",
       "      <td>1.173993</td>\n",
       "      <td>-0.199446</td>\n",
       "      <td>0</td>\n",
       "      <td>0</td>\n",
       "      <td>0.0</td>\n",
       "      <td>0.0</td>\n",
       "      <td>0.0</td>\n",
       "      <td>0</td>\n",
       "      <td>0.0</td>\n",
       "    </tr>\n",
       "    <tr>\n",
       "      <th>1</th>\n",
       "      <td>0.997612</td>\n",
       "      <td>1.006601</td>\n",
       "      <td>1.174146</td>\n",
       "      <td>-0.199261</td>\n",
       "      <td>0</td>\n",
       "      <td>0</td>\n",
       "      <td>0.0</td>\n",
       "      <td>0.0</td>\n",
       "      <td>0.0</td>\n",
       "      <td>0</td>\n",
       "      <td>0.0</td>\n",
       "    </tr>\n",
       "    <tr>\n",
       "      <th>2</th>\n",
       "      <td>0.997668</td>\n",
       "      <td>1.006934</td>\n",
       "      <td>1.174299</td>\n",
       "      <td>-0.199112</td>\n",
       "      <td>0</td>\n",
       "      <td>0</td>\n",
       "      <td>0.0</td>\n",
       "      <td>0.0</td>\n",
       "      <td>0.0</td>\n",
       "      <td>0</td>\n",
       "      <td>0.0</td>\n",
       "    </tr>\n",
       "    <tr>\n",
       "      <th>3</th>\n",
       "      <td>0.997733</td>\n",
       "      <td>1.007228</td>\n",
       "      <td>1.174452</td>\n",
       "      <td>-0.199001</td>\n",
       "      <td>0</td>\n",
       "      <td>0</td>\n",
       "      <td>0.0</td>\n",
       "      <td>0.0</td>\n",
       "      <td>0.0</td>\n",
       "      <td>0</td>\n",
       "      <td>0.0</td>\n",
       "    </tr>\n",
       "    <tr>\n",
       "      <th>4</th>\n",
       "      <td>0.997808</td>\n",
       "      <td>1.007480</td>\n",
       "      <td>1.174605</td>\n",
       "      <td>-0.198932</td>\n",
       "      <td>0</td>\n",
       "      <td>0</td>\n",
       "      <td>0.0</td>\n",
       "      <td>0.0</td>\n",
       "      <td>0.0</td>\n",
       "      <td>0</td>\n",
       "      <td>0.0</td>\n",
       "    </tr>\n",
       "  </tbody>\n",
       "</table>\n",
       "</div>"
      ],
      "text/plain": [
       "    EDA_Raw  EDA_Clean  EDA_Tonic  EDA_Phasic  SCR_Onsets  SCR_Peaks  \\\n",
       "0  0.997566   1.006233   1.173993   -0.199446           0          0   \n",
       "1  0.997612   1.006601   1.174146   -0.199261           0          0   \n",
       "2  0.997668   1.006934   1.174299   -0.199112           0          0   \n",
       "3  0.997733   1.007228   1.174452   -0.199001           0          0   \n",
       "4  0.997808   1.007480   1.174605   -0.198932           0          0   \n",
       "\n",
       "   SCR_Height  SCR_Amplitude  SCR_RiseTime  SCR_Recovery  SCR_RecoveryTime  \n",
       "0         0.0            0.0           0.0             0               0.0  \n",
       "1         0.0            0.0           0.0             0               0.0  \n",
       "2         0.0            0.0           0.0             0               0.0  \n",
       "3         0.0            0.0           0.0             0               0.0  \n",
       "4         0.0            0.0           0.0             0               0.0  "
      ]
     },
     "execution_count": 11,
     "metadata": {},
     "output_type": "execute_result"
    }
   ],
   "source": [
    "# Once you have a raw EDA signal in the shape of a vector (i.e., a one-dimensional array), \n",
    "# or a list, you can use eda_process() to process it.\n",
    "# nk.eda_process extract all of usefull data from raw data such as eda_tonic, phasic, peaks,...\n",
    "\n",
    "signals, info = nk.eda_process(eda_signal, sampling_rate=250)\n",
    "signals.head()"
   ]
  },
  {
   "cell_type": "code",
   "execution_count": 12,
   "metadata": {},
   "outputs": [
    {
     "data": {
      "text/plain": [
       "{'SCR_Onsets': array([  48, 1105, 1777], dtype=int64),\n",
       " 'SCR_Peaks': array([ 138, 1196, 1867], dtype=int64),\n",
       " 'SCR_Height': array([0.75445143, 0.6919226 , 0.78862394]),\n",
       " 'SCR_Amplitude': array([0.99557516, 1.00918491, 1.01421245]),\n",
       " 'SCR_RiseTime': array([0.36 , 0.364, 0.36 ]),\n",
       " 'SCR_Recovery': array([ 265., 1319., 1996.]),\n",
       " 'SCR_RecoveryTime': array([0.508, 0.492, 0.516])}"
      ]
     },
     "execution_count": 12,
     "metadata": {},
     "output_type": "execute_result"
    }
   ],
   "source": [
    "info"
   ]
  },
  {
   "cell_type": "markdown",
   "metadata": {},
   "source": [
    "Locate Skin Conductance Response (SCR) features\n",
    "The processing function does two important things for our purpose: Firstly, it cleans the signal. Secondly, it detects the location of 1) peak onsets, 2) peak amplitude, and 3) half-recovery time. Let’s extract these from the output."
   ]
  },
  {
   "cell_type": "code",
   "execution_count": 13,
   "metadata": {},
   "outputs": [],
   "source": [
    "# Extract clean EDA and SCR features\n",
    "cleaned = signals[\"EDA_Clean\"]\n",
    "features = [info[\"SCR_Onsets\"], info[\"SCR_Peaks\"], info[\"SCR_Recovery\"]]\n"
   ]
  },
  {
   "cell_type": "code",
   "execution_count": 17,
   "metadata": {},
   "outputs": [
    {
     "data": {
      "text/plain": [
       "[<matplotlib.lines.Line2D at 0x1a3971a0130>]"
      ]
     },
     "execution_count": 17,
     "metadata": {},
     "output_type": "execute_result"
    },
    {
     "data": {
      "image/png": "[encoded data removed]",
      "text/plain": [
       "<Figure size 432x288 with 1 Axes>"
      ]
     },
     "metadata": {
      "needs_background": "light"
     },
     "output_type": "display_data"
    }
   ],
   "source": [
    "#let see how cleaned data is different than raw data\n",
    "plt.plot(cleaned)"
   ]
  },
  {
   "cell_type": "code",
   "execution_count": 18,
   "metadata": {},
   "outputs": [
    {
     "data": {
      "text/plain": [
       "[<matplotlib.lines.Line2D at 0x1a3971d3e80>]"
      ]
     },
     "execution_count": 18,
     "metadata": {},
     "output_type": "execute_result"
    },
    {
     "data": {
      "image/png": "[encoded data removed]",
      "text/plain": [
       "<Figure size 432x288 with 1 Axes>"
      ]
     },
     "metadata": {
      "needs_background": "light"
     },
     "output_type": "display_data"
    }
   ],
   "source": [
    "plt.plot(signals[\"EDA_Raw\"])"
   ]
  },
  {
   "cell_type": "code",
   "execution_count": 20,
   "metadata": {},
   "outputs": [
    {
     "data": {
      "image/png": "[encoded data removed]",
      "text/plain": [
       "<Figure size 432x288 with 1 Axes>"
      ]
     },
     "metadata": {
      "needs_background": "light"
     },
     "output_type": "display_data"
    }
   ],
   "source": [
    "## Visualize SCR features in cleaned EDA signal\n",
    "plot = nk.events_plot(features, cleaned, color=['red', 'blue', 'orange'])\n",
    "\n",
    "# We can now visualize the location of the peak onsets, the peak amplitude, \n",
    "# as well as the half-recovery time points in the cleaned EDA signal, respectively\n",
    "# marked by the red dashed line, blue dashed line, and orange dashed line."
   ]
  }
 ],
 "metadata": {
  "kernelspec": {
   "display_name": "Python 3",
   "language": "python",
   "name": "python3"
  },
  "language_info": {
   "codemirror_mode": {
    "name": "ipython",
    "version": 3
   },
   "file_extension": ".py",
   "mimetype": "text/x-python",
   "name": "python",
   "nbconvert_exporter": "python",
   "pygments_lexer": "ipython3",
   "version": "3.8.5"
  }
 },
 "nbformat": 4,
 "nbformat_minor": 4
}
